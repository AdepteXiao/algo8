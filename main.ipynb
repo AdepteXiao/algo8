{
 "cells": [
  {
   "cell_type": "code",
   "execution_count": 37,
   "outputs": [],
   "source": [
    "import pandas as pd\n",
    "import numpy as np\n",
    "import math\n",
    "from numba import njit"
   ],
   "metadata": {
    "collapsed": false
   }
  },
  {
   "cell_type": "code",
   "execution_count": 38,
   "metadata": {
    "collapsed": true
   },
   "outputs": [
    {
     "data": {
      "text/plain": "        id                 region        municipality   settlement type  \\\n0        0       Республика Алтай   Шебалинский район        Каспа    с   \n1        1         Алтайский край          Смоленский     Молочный    п   \n2        2      Красноярский край   Казачинский район      Отношка    с   \n3        3        Республика Тыва  Каа-Хемский кожуун    Кундустуг    с   \n4        4      Красноярский край   Курагинский район    Щетинкино    с   \n...    ...                    ...                 ...          ...  ...   \n6132  6132  Новосибирская область     Сузунский район       Мереть    с   \n6133  6133  Новосибирская область     Сузунский район      Маюрово    с   \n6134  6134         Алтайский край     Быстроистокский   Смоленский    п   \n6135  6135  Новосибирская область   Искитимский район    Малиновка    д   \n6136  6136      Красноярский край   Назаровский район  Старожилово    п   \n\n      latitude_dd  longitude_dd  \n0            5111          8601  \n1            5241          8497  \n2            5738          9270  \n3            5157          9518  \n4            5453          9344  \n...           ...           ...  \n6132         5357          8239  \n6133         5431          8242  \n6134         5221          8466  \n6135         5466          8386  \n6136         5583          9088  \n\n[6137 rows x 7 columns]",
      "text/html": "<div>\n<style scoped>\n    .dataframe tbody tr th:only-of-type {\n        vertical-align: middle;\n    }\n\n    .dataframe tbody tr th {\n        vertical-align: top;\n    }\n\n    .dataframe thead th {\n        text-align: right;\n    }\n</style>\n<table border=\"1\" class=\"dataframe\">\n  <thead>\n    <tr style=\"text-align: right;\">\n      <th></th>\n      <th>id</th>\n      <th>region</th>\n      <th>municipality</th>\n      <th>settlement</th>\n      <th>type</th>\n      <th>latitude_dd</th>\n      <th>longitude_dd</th>\n    </tr>\n  </thead>\n  <tbody>\n    <tr>\n      <th>0</th>\n      <td>0</td>\n      <td>Республика Алтай</td>\n      <td>Шебалинский район</td>\n      <td>Каспа</td>\n      <td>с</td>\n      <td>5111</td>\n      <td>8601</td>\n    </tr>\n    <tr>\n      <th>1</th>\n      <td>1</td>\n      <td>Алтайский край</td>\n      <td>Смоленский</td>\n      <td>Молочный</td>\n      <td>п</td>\n      <td>5241</td>\n      <td>8497</td>\n    </tr>\n    <tr>\n      <th>2</th>\n      <td>2</td>\n      <td>Красноярский край</td>\n      <td>Казачинский район</td>\n      <td>Отношка</td>\n      <td>с</td>\n      <td>5738</td>\n      <td>9270</td>\n    </tr>\n    <tr>\n      <th>3</th>\n      <td>3</td>\n      <td>Республика Тыва</td>\n      <td>Каа-Хемский кожуун</td>\n      <td>Кундустуг</td>\n      <td>с</td>\n      <td>5157</td>\n      <td>9518</td>\n    </tr>\n    <tr>\n      <th>4</th>\n      <td>4</td>\n      <td>Красноярский край</td>\n      <td>Курагинский район</td>\n      <td>Щетинкино</td>\n      <td>с</td>\n      <td>5453</td>\n      <td>9344</td>\n    </tr>\n    <tr>\n      <th>...</th>\n      <td>...</td>\n      <td>...</td>\n      <td>...</td>\n      <td>...</td>\n      <td>...</td>\n      <td>...</td>\n      <td>...</td>\n    </tr>\n    <tr>\n      <th>6132</th>\n      <td>6132</td>\n      <td>Новосибирская область</td>\n      <td>Сузунский район</td>\n      <td>Мереть</td>\n      <td>с</td>\n      <td>5357</td>\n      <td>8239</td>\n    </tr>\n    <tr>\n      <th>6133</th>\n      <td>6133</td>\n      <td>Новосибирская область</td>\n      <td>Сузунский район</td>\n      <td>Маюрово</td>\n      <td>с</td>\n      <td>5431</td>\n      <td>8242</td>\n    </tr>\n    <tr>\n      <th>6134</th>\n      <td>6134</td>\n      <td>Алтайский край</td>\n      <td>Быстроистокский</td>\n      <td>Смоленский</td>\n      <td>п</td>\n      <td>5221</td>\n      <td>8466</td>\n    </tr>\n    <tr>\n      <th>6135</th>\n      <td>6135</td>\n      <td>Новосибирская область</td>\n      <td>Искитимский район</td>\n      <td>Малиновка</td>\n      <td>д</td>\n      <td>5466</td>\n      <td>8386</td>\n    </tr>\n    <tr>\n      <th>6136</th>\n      <td>6136</td>\n      <td>Красноярский край</td>\n      <td>Назаровский район</td>\n      <td>Старожилово</td>\n      <td>п</td>\n      <td>5583</td>\n      <td>9088</td>\n    </tr>\n  </tbody>\n</table>\n<p>6137 rows × 7 columns</p>\n</div>"
     },
     "execution_count": 38,
     "metadata": {},
     "output_type": "execute_result"
    }
   ],
   "source": [
    "df = pd.read_csv('data.csv', delimiter=',')\n",
    "# df = df.head(20)\n",
    "\n",
    "df"
   ]
  },
  {
   "cell_type": "code",
   "execution_count": 145,
   "outputs": [],
   "source": [
    "@njit(fastmath = True)\n",
    "def create_mtrx(k, arr):\n",
    "    dist_arr = np.zeros((k, k))\n",
    "    for i in range(k):\n",
    "        for j in range(k):\n",
    "            if i != j:\n",
    "                dist_arr[i][j] = math.sqrt((arr[j][0] - arr[i][0])**2 + (arr[j][1] - arr[i][1])**2)\n",
    "\n",
    "    return dist_arr\n",
    "\n",
    "# def calculate_distance(x1, y1, x2, y2):\n",
    "#     distance = math.sqrt((x2 - x1)**2 + (y2 - y1)**2)\n",
    "#     return distance\n",
    "\n",
    "@njit(fastmath = True)\n",
    "def greedy_tsp(k, d_arr):\n",
    "    start_idx = 3753\n",
    "    visited = np.zeros(k, dtype=np.int64)\n",
    "    visited[start_idx] = 1\n",
    "    current_city = start_idx\n",
    "    way = np.zeros(k + 1, dtype=np.int64)\n",
    "    way[0] = way[k] = start_idx\n",
    "\n",
    "    for i in range(1, k):\n",
    "        min_distance = np.inf\n",
    "        nearest_city = -1\n",
    "\n",
    "        for city in range(k):\n",
    "            if not visited[city] and d_arr[current_city][city] < min_distance:\n",
    "                min_distance = d_arr[current_city][city]\n",
    "                nearest_city = city\n",
    "        way[i] = nearest_city\n",
    "        visited[nearest_city] = 1\n",
    "        current_city = nearest_city\n",
    "    return way\n",
    "\n",
    "@njit(fastmath = True)\n",
    "def count_len(matrix, way):\n",
    "    total_len = 0\n",
    "    for i in range(len(way) - 1):\n",
    "        total_len += matrix[way[i]][way[i + 1]]\n",
    "    return total_len / 100\n",
    "\n",
    "def save_csv(matrix, way):\n",
    "    data = {'Id': list(way[:-1]), 'Predicted': []}\n",
    "    for i in range(len(way) - 1):\n",
    "        data[\"Predicted\"].append(matrix[way[i]][way[i + 1]])\n",
    "    df = pd.DataFrame(data)\n",
    "    df.to_csv(\"res.csv\", index=False, sep=\",\", float_format=\"%.3f\")"
   ],
   "metadata": {
    "collapsed": false
   }
  },
  {
   "cell_type": "code",
   "execution_count": 133,
   "outputs": [
    {
     "data": {
      "text/plain": "1074.3788465925031"
     },
     "execution_count": 133,
     "metadata": {},
     "output_type": "execute_result"
    }
   ],
   "source": [
    "num = df.shape[0]\n",
    "coord_cols = np.array(df.loc[:, ['latitude_dd', 'longitude_dd']])\n",
    "matrix = create_mtrx(num, coord_cols)\n",
    "way = greedy_tsp(num, matrix)\n",
    "count_len(matrix, way)"
   ],
   "metadata": {
    "collapsed": false
   }
  },
  {
   "cell_type": "code",
   "execution_count": 146,
   "outputs": [],
   "source": [
    "save_csv(matrix, way)"
   ],
   "metadata": {
    "collapsed": false
   }
  },
  {
   "cell_type": "code",
   "execution_count": null,
   "outputs": [],
   "source": [],
   "metadata": {
    "collapsed": false
   }
  }
 ],
 "metadata": {
  "kernelspec": {
   "display_name": "Python 3",
   "language": "python",
   "name": "python3"
  },
  "language_info": {
   "codemirror_mode": {
    "name": "ipython",
    "version": 2
   },
   "file_extension": ".py",
   "mimetype": "text/x-python",
   "name": "python",
   "nbconvert_exporter": "python",
   "pygments_lexer": "ipython2",
   "version": "2.7.6"
  }
 },
 "nbformat": 4,
 "nbformat_minor": 0
}
