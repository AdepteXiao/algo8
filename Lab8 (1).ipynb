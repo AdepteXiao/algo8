{
 "cells": [
  {
   "cell_type": "code",
   "execution_count": 1,
   "metadata": {
    "collapsed": true
   },
   "outputs": [],
   "source": [
    "import pandas as pd\n",
    "import numpy as np\n",
    "from numba import njit\n",
    "from time import time"
   ]
  },
  {
   "cell_type": "code",
   "execution_count": 2,
   "outputs": [
    {
     "data": {
      "text/plain": "        id                 region        municipality   settlement type  \\\n0        0       Республика Алтай   Шебалинский район        Каспа    с   \n1        1         Алтайский край          Смоленский     Молочный    п   \n2        2      Красноярский край   Казачинский район      Отношка    с   \n3        3        Республика Тыва  Каа-Хемский кожуун    Кундустуг    с   \n4        4      Красноярский край   Курагинский район    Щетинкино    с   \n...    ...                    ...                 ...          ...  ...   \n6132  6132  Новосибирская область     Сузунский район       Мереть    с   \n6133  6133  Новосибирская область     Сузунский район      Маюрово    с   \n6134  6134         Алтайский край     Быстроистокский   Смоленский    п   \n6135  6135  Новосибирская область   Искитимский район    Малиновка    д   \n6136  6136      Красноярский край   Назаровский район  Старожилово    п   \n\n      latitude_dd  longitude_dd  \n0            5111          8601  \n1            5241          8497  \n2            5738          9270  \n3            5157          9518  \n4            5453          9344  \n...           ...           ...  \n6132         5357          8239  \n6133         5431          8242  \n6134         5221          8466  \n6135         5466          8386  \n6136         5583          9088  \n\n[6137 rows x 7 columns]",
      "text/html": "<div>\n<style scoped>\n    .dataframe tbody tr th:only-of-type {\n        vertical-align: middle;\n    }\n\n    .dataframe tbody tr th {\n        vertical-align: top;\n    }\n\n    .dataframe thead th {\n        text-align: right;\n    }\n</style>\n<table border=\"1\" class=\"dataframe\">\n  <thead>\n    <tr style=\"text-align: right;\">\n      <th></th>\n      <th>id</th>\n      <th>region</th>\n      <th>municipality</th>\n      <th>settlement</th>\n      <th>type</th>\n      <th>latitude_dd</th>\n      <th>longitude_dd</th>\n    </tr>\n  </thead>\n  <tbody>\n    <tr>\n      <th>0</th>\n      <td>0</td>\n      <td>Республика Алтай</td>\n      <td>Шебалинский район</td>\n      <td>Каспа</td>\n      <td>с</td>\n      <td>5111</td>\n      <td>8601</td>\n    </tr>\n    <tr>\n      <th>1</th>\n      <td>1</td>\n      <td>Алтайский край</td>\n      <td>Смоленский</td>\n      <td>Молочный</td>\n      <td>п</td>\n      <td>5241</td>\n      <td>8497</td>\n    </tr>\n    <tr>\n      <th>2</th>\n      <td>2</td>\n      <td>Красноярский край</td>\n      <td>Казачинский район</td>\n      <td>Отношка</td>\n      <td>с</td>\n      <td>5738</td>\n      <td>9270</td>\n    </tr>\n    <tr>\n      <th>3</th>\n      <td>3</td>\n      <td>Республика Тыва</td>\n      <td>Каа-Хемский кожуун</td>\n      <td>Кундустуг</td>\n      <td>с</td>\n      <td>5157</td>\n      <td>9518</td>\n    </tr>\n    <tr>\n      <th>4</th>\n      <td>4</td>\n      <td>Красноярский край</td>\n      <td>Курагинский район</td>\n      <td>Щетинкино</td>\n      <td>с</td>\n      <td>5453</td>\n      <td>9344</td>\n    </tr>\n    <tr>\n      <th>...</th>\n      <td>...</td>\n      <td>...</td>\n      <td>...</td>\n      <td>...</td>\n      <td>...</td>\n      <td>...</td>\n      <td>...</td>\n    </tr>\n    <tr>\n      <th>6132</th>\n      <td>6132</td>\n      <td>Новосибирская область</td>\n      <td>Сузунский район</td>\n      <td>Мереть</td>\n      <td>с</td>\n      <td>5357</td>\n      <td>8239</td>\n    </tr>\n    <tr>\n      <th>6133</th>\n      <td>6133</td>\n      <td>Новосибирская область</td>\n      <td>Сузунский район</td>\n      <td>Маюрово</td>\n      <td>с</td>\n      <td>5431</td>\n      <td>8242</td>\n    </tr>\n    <tr>\n      <th>6134</th>\n      <td>6134</td>\n      <td>Алтайский край</td>\n      <td>Быстроистокский</td>\n      <td>Смоленский</td>\n      <td>п</td>\n      <td>5221</td>\n      <td>8466</td>\n    </tr>\n    <tr>\n      <th>6135</th>\n      <td>6135</td>\n      <td>Новосибирская область</td>\n      <td>Искитимский район</td>\n      <td>Малиновка</td>\n      <td>д</td>\n      <td>5466</td>\n      <td>8386</td>\n    </tr>\n    <tr>\n      <th>6136</th>\n      <td>6136</td>\n      <td>Красноярский край</td>\n      <td>Назаровский район</td>\n      <td>Старожилово</td>\n      <td>п</td>\n      <td>5583</td>\n      <td>9088</td>\n    </tr>\n  </tbody>\n</table>\n<p>6137 rows × 7 columns</p>\n</div>"
     },
     "execution_count": 2,
     "metadata": {},
     "output_type": "execute_result"
    }
   ],
   "source": [
    "df = pd.read_csv('data.csv', delimiter=',')\n",
    "df"
   ],
   "metadata": {
    "collapsed": false
   }
  },
  {
   "cell_type": "code",
   "execution_count": 8,
   "outputs": [],
   "source": [
    "@njit(fastmath=True)\n",
    "def count_matrix(n, array):\n",
    "    matrix = np.zeros((n, n))\n",
    "    for i in range(n):\n",
    "        for j in range(n):\n",
    "            if i == j:\n",
    "                continue\n",
    "            matrix[i, j] = np.sqrt(np.sum(np.square(array[i] - array[j])))\n",
    "    return matrix\n",
    "\n",
    "@njit(fastmath=True)\n",
    "def find_way(matrix, start_vertex):\n",
    "    n = matrix.shape[0]\n",
    "    visited = np.zeros(n, dtype=np.int64)\n",
    "    edges = np.zeros(n + 1, dtype=np.int64)\n",
    "    edges[n] = start_vertex\n",
    "    min_distance = np.inf\n",
    "\n",
    "    for i in range(n):\n",
    "        visited[start_vertex] = 1\n",
    "        min_vertex = -1\n",
    "        for j in range(n):\n",
    "            if j != start_vertex and not visited[j]:\n",
    "                distance = matrix[start_vertex, j]\n",
    "                if distance < min_distance:\n",
    "                    min_distance = distance\n",
    "                    min_vertex = j\n",
    "\n",
    "        edges[i] = start_vertex\n",
    "        start_vertex = min_vertex\n",
    "        min_distance = np.inf\n",
    "\n",
    "    return edges.astype(\"int\")\n",
    "\n",
    "def save_csv(matrix, way):\n",
    "    dists = matrix[way[:-1], way[1:]] / 100\n",
    "    ids = way[:-1]\n",
    "    df = pd.DataFrame({'Id': ids, 'Predicted': dists.ravel()})\n",
    "    df = df.astype({'Id': int, 'Predicted': float}).reset_index(drop=True)\n",
    "    display(df)\n",
    "    df.to_csv(\"res.csv\", index=False, sep=\",\", float_format=\"%.3f\")"
   ],
   "metadata": {
    "collapsed": false
   }
  },
  {
   "cell_type": "code",
   "execution_count": null,
   "outputs": [],
   "source": [
    "start = time()\n",
    "\n",
    "arr = np.column_stack((df['latitude_dd'].to_numpy(), df['longitude_dd'].to_numpy()))\n",
    "matrix = count_matrix(len(arr), arr)\n",
    "way = find_way(matrix, 3753)\n",
    "\n",
    "length = sum([matrix[way[i]][way[i + 1]] for i in range(0, len(way) - 1)]) / 100\n",
    "\n",
    "end = time()\n",
    "\n",
    "print(f\"Длина пути: {length:.3f}\")\n",
    "print(f\"Поиск выполнен за {end - start:.3f} seconds\")"
   ],
   "metadata": {
    "collapsed": false
   }
  },
  {
   "cell_type": "code",
   "execution_count": 9,
   "outputs": [
    {
     "data": {
      "text/plain": "        Id  Predicted\n0     3753   0.050990\n1     2533   0.092195\n2     3483   0.050990\n3      622   0.020000\n4     6044   0.058310\n...    ...        ...\n6132   986  13.021743\n6133  3336   7.095583\n6134  5629   2.457906\n6135  4674   2.917070\n6136   991  23.944557\n\n[6137 rows x 2 columns]",
      "text/html": "<div>\n<style scoped>\n    .dataframe tbody tr th:only-of-type {\n        vertical-align: middle;\n    }\n\n    .dataframe tbody tr th {\n        vertical-align: top;\n    }\n\n    .dataframe thead th {\n        text-align: right;\n    }\n</style>\n<table border=\"1\" class=\"dataframe\">\n  <thead>\n    <tr style=\"text-align: right;\">\n      <th></th>\n      <th>Id</th>\n      <th>Predicted</th>\n    </tr>\n  </thead>\n  <tbody>\n    <tr>\n      <th>0</th>\n      <td>3753</td>\n      <td>0.050990</td>\n    </tr>\n    <tr>\n      <th>1</th>\n      <td>2533</td>\n      <td>0.092195</td>\n    </tr>\n    <tr>\n      <th>2</th>\n      <td>3483</td>\n      <td>0.050990</td>\n    </tr>\n    <tr>\n      <th>3</th>\n      <td>622</td>\n      <td>0.020000</td>\n    </tr>\n    <tr>\n      <th>4</th>\n      <td>6044</td>\n      <td>0.058310</td>\n    </tr>\n    <tr>\n      <th>...</th>\n      <td>...</td>\n      <td>...</td>\n    </tr>\n    <tr>\n      <th>6132</th>\n      <td>986</td>\n      <td>13.021743</td>\n    </tr>\n    <tr>\n      <th>6133</th>\n      <td>3336</td>\n      <td>7.095583</td>\n    </tr>\n    <tr>\n      <th>6134</th>\n      <td>5629</td>\n      <td>2.457906</td>\n    </tr>\n    <tr>\n      <th>6135</th>\n      <td>4674</td>\n      <td>2.917070</td>\n    </tr>\n    <tr>\n      <th>6136</th>\n      <td>991</td>\n      <td>23.944557</td>\n    </tr>\n  </tbody>\n</table>\n<p>6137 rows × 2 columns</p>\n</div>"
     },
     "metadata": {},
     "output_type": "display_data"
    }
   ],
   "source": [
    "\n",
    "save_csv(matrix, way)"
   ],
   "metadata": {
    "collapsed": false
   }
  },
  {
   "cell_type": "code",
   "execution_count": null,
   "outputs": [],
   "source": [],
   "metadata": {
    "collapsed": false
   }
  }
 ],
 "metadata": {
  "kernelspec": {
   "display_name": "Python 3",
   "language": "python",
   "name": "python3"
  },
  "language_info": {
   "codemirror_mode": {
    "name": "ipython",
    "version": 2
   },
   "file_extension": ".py",
   "mimetype": "text/x-python",
   "name": "python",
   "nbconvert_exporter": "python",
   "pygments_lexer": "ipython2",
   "version": "2.7.6"
  }
 },
 "nbformat": 4,
 "nbformat_minor": 0
}
